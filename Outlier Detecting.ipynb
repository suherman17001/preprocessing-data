{
 "cells": [
  {
   "cell_type": "code",
   "execution_count": 1,
   "metadata": {},
   "outputs": [
    {
     "name": "stdout",
     "output_type": "stream",
     "text": [
      "product_weight_gram    1550.0\n",
      "dtype: float64\n",
      "       product_weight_gram\n",
      "0                    False\n",
      "1                    False\n",
      "2                    False\n",
      "3                    False\n",
      "4                    False\n",
      "...                    ...\n",
      "49994                False\n",
      "49995                False\n",
      "49996                False\n",
      "49997                False\n",
      "49998                False\n",
      "\n",
      "[49999 rows x 1 columns]\n"
     ]
    }
   ],
   "source": [
    "import pandas as pd\n",
    "order_df = pd.read_csv(\"https://storage.googleapis.com/dqlab-dataset/order.csv\")\n",
    "# Hitung quartile 1\n",
    "Q1 = order_df[[\"product_weight_gram\"]].quantile(0.25)\n",
    "# Hitung quartile 3\n",
    "Q3 = order_df[[\"product_weight_gram\"]].quantile(0.75)\n",
    "# Hitung inter quartile range dan cetak ke console\n",
    "IQR = Q3-Q1\n",
    "print(IQR)\n",
    "#Outlier\n",
    "print((order_df[[\"product_weight_gram\"]]<(Q1-1.5*IQR))|(order_df[[\"product_weight_gram\"]]>(Q1+1.5*IQR)))"
   ]
  },
  {
   "cell_type": "code",
   "execution_count": null,
   "metadata": {},
   "outputs": [],
   "source": []
  }
 ],
 "metadata": {
  "kernelspec": {
   "display_name": "Python 3",
   "language": "python",
   "name": "python3"
  },
  "language_info": {
   "codemirror_mode": {
    "name": "ipython",
    "version": 3
   },
   "file_extension": ".py",
   "mimetype": "text/x-python",
   "name": "python",
   "nbconvert_exporter": "python",
   "pygments_lexer": "ipython3",
   "version": "3.7.4"
  }
 },
 "nbformat": 4,
 "nbformat_minor": 2
}
